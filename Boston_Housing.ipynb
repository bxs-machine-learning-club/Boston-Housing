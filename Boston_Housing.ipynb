{
  "nbformat": 4,
  "nbformat_minor": 0,
  "metadata": {
    "colab": {
      "name": "Boston Housing",
      "provenance": [],
      "collapsed_sections": []
    },
    "kernelspec": {
      "name": "python3",
      "display_name": "Python 3"
    }
  },
  "cells": [
    {
      "cell_type": "markdown",
      "metadata": {
        "id": "LTY5bHc4puAK",
        "colab_type": "text"
      },
      "source": [
        "Required imports"
      ]
    },
    {
      "cell_type": "code",
      "metadata": {
        "id": "Yu1jBa68oNFq",
        "colab_type": "code",
        "colab": {}
      },
      "source": [
        "import numpy as np\n",
        "import matplotlib.pyplot as plt\n",
        "from sklearn.model_selection import train_test_split\n",
        "from sklearn.datasets import load_boston\n",
        "from sklearn.preprocessing import scale\n",
        "import tensorflow.keras as keras\n",
        "\n",
        "from keras.models import Sequential\n",
        "from keras.layers import Dense"
      ],
      "execution_count": 0,
      "outputs": []
    },
    {
      "cell_type": "markdown",
      "metadata": {
        "id": "zkpkcrybp49D",
        "colab_type": "text"
      },
      "source": [
        "Data reading and preprocessing"
      ]
    },
    {
      "cell_type": "code",
      "metadata": {
        "id": "jbvMjip_p-vU",
        "colab_type": "code",
        "colab": {}
      },
      "source": [
        "#YOUR CODE HERE -- Load boston housing data\n",
        "X, y = load_boston(return_X_y = True)\n",
        "#YOUR CODE HERE -- Scale features and targets so that they are btwn 0 and 1\n",
        "X = scale(X)\n",
        "y = scale(y)\n",
        "#YOUR CODE HERE -- Split the data into training and testing sets\n",
        "X_train, X_test, y_train, y_test = train_test_split(X, y, random_state = 1)"
      ],
      "execution_count": 0,
      "outputs": []
    },
    {
      "cell_type": "markdown",
      "metadata": {
        "id": "Z3ufNxyztQyU",
        "colab_type": "text"
      },
      "source": [
        "Building the sequential model\n",
        "\n",
        "Reference:\n",
        "https://keras.io/models/sequential/"
      ]
    },
    {
      "cell_type": "code",
      "metadata": {
        "id": "mmvMi2ratUGB",
        "colab_type": "code",
        "colab": {}
      },
      "source": [
        "model = Sequential([\n",
        "    #Input layer - 20 nodes, relu activation, 13 features as input_dim\n",
        "    Dense(20, activation=\"relu\", input_dim=13),\n",
        "    #YOUR CODE HERE - Hidden layer (activation = relu)\n",
        "    Dense(20, activation = \"relu\"),\n",
        "    #YOUR CODE HERE - Output layer (activation = linear)\n",
        "    Dense(1, activation = \"linear\")\n",
        "])\n"
      ],
      "execution_count": 0,
      "outputs": []
    },
    {
      "cell_type": "markdown",
      "metadata": {
        "id": "U1EMsLVfua2j",
        "colab_type": "text"
      },
      "source": [
        "Compile the model"
      ]
    },
    {
      "cell_type": "code",
      "metadata": {
        "id": "mEVU53cTuZq5",
        "colab_type": "code",
        "colab": {}
      },
      "source": [
        "#YOUR CODE HERE - Compile the model with Loss = MSE, Optimizer = Adam, Metrics = [MSE, MAE]\n",
        "model.compile(optimizer='Adam', loss = \"mean_squared_error\", metrics = ['mse', 'mae'])"
      ],
      "execution_count": 0,
      "outputs": []
    },
    {
      "cell_type": "markdown",
      "metadata": {
        "id": "nm285uJuvvxP",
        "colab_type": "text"
      },
      "source": [
        "Training the model"
      ]
    },
    {
      "cell_type": "code",
      "metadata": {
        "id": "kdkV5cj5v2Df",
        "colab_type": "code",
        "colab": {
          "base_uri": "https://localhost:8080/",
          "height": 1000
        },
        "outputId": "729c87a0-f49b-478d-c5dc-c91a31334b06"
      },
      "source": [
        "#YOUR CODE HERE - Train the model with 1000 epochs and a validation split of 0.2\n",
        "model.fit(x = X_train, y = y_train, epochs = 100, validation_split = 0.2)"
      ],
      "execution_count": 40,
      "outputs": [
        {
          "output_type": "stream",
          "text": [
            "Train on 303 samples, validate on 76 samples\n",
            "Epoch 1/100\n",
            "303/303 [==============================] - 0s 1ms/step - loss: 0.0743 - mean_squared_error: 0.0743 - mean_absolute_error: 0.1909 - val_loss: 0.1598 - val_mean_squared_error: 0.1598 - val_mean_absolute_error: 0.2396\n",
            "Epoch 2/100\n",
            "303/303 [==============================] - 0s 69us/step - loss: 0.0725 - mean_squared_error: 0.0725 - mean_absolute_error: 0.1885 - val_loss: 0.1575 - val_mean_squared_error: 0.1575 - val_mean_absolute_error: 0.2445\n",
            "Epoch 3/100\n",
            "303/303 [==============================] - 0s 67us/step - loss: 0.0716 - mean_squared_error: 0.0716 - mean_absolute_error: 0.1870 - val_loss: 0.1590 - val_mean_squared_error: 0.1590 - val_mean_absolute_error: 0.2413\n",
            "Epoch 4/100\n",
            "303/303 [==============================] - 0s 61us/step - loss: 0.0691 - mean_squared_error: 0.0691 - mean_absolute_error: 0.1861 - val_loss: 0.1590 - val_mean_squared_error: 0.1590 - val_mean_absolute_error: 0.2479\n",
            "Epoch 5/100\n",
            "303/303 [==============================] - 0s 62us/step - loss: 0.0706 - mean_squared_error: 0.0706 - mean_absolute_error: 0.1866 - val_loss: 0.1567 - val_mean_squared_error: 0.1567 - val_mean_absolute_error: 0.2441\n",
            "Epoch 6/100\n",
            "303/303 [==============================] - 0s 58us/step - loss: 0.0679 - mean_squared_error: 0.0679 - mean_absolute_error: 0.1835 - val_loss: 0.1560 - val_mean_squared_error: 0.1560 - val_mean_absolute_error: 0.2377\n",
            "Epoch 7/100\n",
            "303/303 [==============================] - 0s 67us/step - loss: 0.0677 - mean_squared_error: 0.0677 - mean_absolute_error: 0.1815 - val_loss: 0.1551 - val_mean_squared_error: 0.1551 - val_mean_absolute_error: 0.2424\n",
            "Epoch 8/100\n",
            "303/303 [==============================] - 0s 60us/step - loss: 0.0672 - mean_squared_error: 0.0672 - mean_absolute_error: 0.1829 - val_loss: 0.1536 - val_mean_squared_error: 0.1536 - val_mean_absolute_error: 0.2448\n",
            "Epoch 9/100\n",
            "303/303 [==============================] - 0s 69us/step - loss: 0.0686 - mean_squared_error: 0.0686 - mean_absolute_error: 0.1810 - val_loss: 0.1553 - val_mean_squared_error: 0.1553 - val_mean_absolute_error: 0.2371\n",
            "Epoch 10/100\n",
            "303/303 [==============================] - 0s 72us/step - loss: 0.0663 - mean_squared_error: 0.0663 - mean_absolute_error: 0.1833 - val_loss: 0.1552 - val_mean_squared_error: 0.1552 - val_mean_absolute_error: 0.2466\n",
            "Epoch 11/100\n",
            "303/303 [==============================] - 0s 58us/step - loss: 0.0659 - mean_squared_error: 0.0659 - mean_absolute_error: 0.1802 - val_loss: 0.1532 - val_mean_squared_error: 0.1532 - val_mean_absolute_error: 0.2409\n",
            "Epoch 12/100\n",
            "303/303 [==============================] - 0s 62us/step - loss: 0.0639 - mean_squared_error: 0.0639 - mean_absolute_error: 0.1795 - val_loss: 0.1514 - val_mean_squared_error: 0.1514 - val_mean_absolute_error: 0.2399\n",
            "Epoch 13/100\n",
            "303/303 [==============================] - 0s 65us/step - loss: 0.0643 - mean_squared_error: 0.0643 - mean_absolute_error: 0.1776 - val_loss: 0.1511 - val_mean_squared_error: 0.1511 - val_mean_absolute_error: 0.2377\n",
            "Epoch 14/100\n",
            "303/303 [==============================] - 0s 81us/step - loss: 0.0638 - mean_squared_error: 0.0638 - mean_absolute_error: 0.1812 - val_loss: 0.1515 - val_mean_squared_error: 0.1515 - val_mean_absolute_error: 0.2391\n",
            "Epoch 15/100\n",
            "303/303 [==============================] - 0s 72us/step - loss: 0.0635 - mean_squared_error: 0.0635 - mean_absolute_error: 0.1770 - val_loss: 0.1519 - val_mean_squared_error: 0.1519 - val_mean_absolute_error: 0.2403\n",
            "Epoch 16/100\n",
            "303/303 [==============================] - 0s 73us/step - loss: 0.0630 - mean_squared_error: 0.0630 - mean_absolute_error: 0.1748 - val_loss: 0.1500 - val_mean_squared_error: 0.1500 - val_mean_absolute_error: 0.2357\n",
            "Epoch 17/100\n",
            "303/303 [==============================] - 0s 68us/step - loss: 0.0625 - mean_squared_error: 0.0625 - mean_absolute_error: 0.1767 - val_loss: 0.1500 - val_mean_squared_error: 0.1500 - val_mean_absolute_error: 0.2415\n",
            "Epoch 18/100\n",
            "303/303 [==============================] - 0s 73us/step - loss: 0.0603 - mean_squared_error: 0.0603 - mean_absolute_error: 0.1751 - val_loss: 0.1499 - val_mean_squared_error: 0.1499 - val_mean_absolute_error: 0.2364\n",
            "Epoch 19/100\n",
            "303/303 [==============================] - 0s 70us/step - loss: 0.0605 - mean_squared_error: 0.0605 - mean_absolute_error: 0.1760 - val_loss: 0.1500 - val_mean_squared_error: 0.1500 - val_mean_absolute_error: 0.2422\n",
            "Epoch 20/100\n",
            "303/303 [==============================] - 0s 64us/step - loss: 0.0592 - mean_squared_error: 0.0592 - mean_absolute_error: 0.1724 - val_loss: 0.1498 - val_mean_squared_error: 0.1498 - val_mean_absolute_error: 0.2388\n",
            "Epoch 21/100\n",
            "303/303 [==============================] - 0s 66us/step - loss: 0.0585 - mean_squared_error: 0.0585 - mean_absolute_error: 0.1717 - val_loss: 0.1484 - val_mean_squared_error: 0.1484 - val_mean_absolute_error: 0.2369\n",
            "Epoch 22/100\n",
            "303/303 [==============================] - 0s 62us/step - loss: 0.0586 - mean_squared_error: 0.0586 - mean_absolute_error: 0.1732 - val_loss: 0.1473 - val_mean_squared_error: 0.1473 - val_mean_absolute_error: 0.2388\n",
            "Epoch 23/100\n",
            "303/303 [==============================] - 0s 68us/step - loss: 0.0580 - mean_squared_error: 0.0580 - mean_absolute_error: 0.1715 - val_loss: 0.1475 - val_mean_squared_error: 0.1475 - val_mean_absolute_error: 0.2371\n",
            "Epoch 24/100\n",
            "303/303 [==============================] - 0s 70us/step - loss: 0.0580 - mean_squared_error: 0.0580 - mean_absolute_error: 0.1751 - val_loss: 0.1468 - val_mean_squared_error: 0.1468 - val_mean_absolute_error: 0.2399\n",
            "Epoch 25/100\n",
            "303/303 [==============================] - 0s 81us/step - loss: 0.0593 - mean_squared_error: 0.0593 - mean_absolute_error: 0.1717 - val_loss: 0.1467 - val_mean_squared_error: 0.1467 - val_mean_absolute_error: 0.2372\n",
            "Epoch 26/100\n",
            "303/303 [==============================] - 0s 78us/step - loss: 0.0569 - mean_squared_error: 0.0569 - mean_absolute_error: 0.1709 - val_loss: 0.1472 - val_mean_squared_error: 0.1472 - val_mean_absolute_error: 0.2392\n",
            "Epoch 27/100\n",
            "303/303 [==============================] - 0s 75us/step - loss: 0.0557 - mean_squared_error: 0.0557 - mean_absolute_error: 0.1687 - val_loss: 0.1484 - val_mean_squared_error: 0.1484 - val_mean_absolute_error: 0.2385\n",
            "Epoch 28/100\n",
            "303/303 [==============================] - 0s 63us/step - loss: 0.0551 - mean_squared_error: 0.0551 - mean_absolute_error: 0.1672 - val_loss: 0.1462 - val_mean_squared_error: 0.1462 - val_mean_absolute_error: 0.2390\n",
            "Epoch 29/100\n",
            "303/303 [==============================] - 0s 63us/step - loss: 0.0551 - mean_squared_error: 0.0551 - mean_absolute_error: 0.1696 - val_loss: 0.1461 - val_mean_squared_error: 0.1461 - val_mean_absolute_error: 0.2369\n",
            "Epoch 30/100\n",
            "303/303 [==============================] - 0s 76us/step - loss: 0.0553 - mean_squared_error: 0.0553 - mean_absolute_error: 0.1668 - val_loss: 0.1460 - val_mean_squared_error: 0.1460 - val_mean_absolute_error: 0.2385\n",
            "Epoch 31/100\n",
            "303/303 [==============================] - 0s 60us/step - loss: 0.0564 - mean_squared_error: 0.0564 - mean_absolute_error: 0.1746 - val_loss: 0.1459 - val_mean_squared_error: 0.1459 - val_mean_absolute_error: 0.2403\n",
            "Epoch 32/100\n",
            "303/303 [==============================] - 0s 73us/step - loss: 0.0541 - mean_squared_error: 0.0541 - mean_absolute_error: 0.1674 - val_loss: 0.1459 - val_mean_squared_error: 0.1459 - val_mean_absolute_error: 0.2403\n",
            "Epoch 33/100\n",
            "303/303 [==============================] - 0s 96us/step - loss: 0.0530 - mean_squared_error: 0.0530 - mean_absolute_error: 0.1661 - val_loss: 0.1447 - val_mean_squared_error: 0.1447 - val_mean_absolute_error: 0.2392\n",
            "Epoch 34/100\n",
            "303/303 [==============================] - 0s 79us/step - loss: 0.0538 - mean_squared_error: 0.0538 - mean_absolute_error: 0.1661 - val_loss: 0.1460 - val_mean_squared_error: 0.1460 - val_mean_absolute_error: 0.2376\n",
            "Epoch 35/100\n",
            "303/303 [==============================] - 0s 76us/step - loss: 0.0533 - mean_squared_error: 0.0533 - mean_absolute_error: 0.1688 - val_loss: 0.1455 - val_mean_squared_error: 0.1455 - val_mean_absolute_error: 0.2394\n",
            "Epoch 36/100\n",
            "303/303 [==============================] - 0s 68us/step - loss: 0.0540 - mean_squared_error: 0.0540 - mean_absolute_error: 0.1672 - val_loss: 0.1451 - val_mean_squared_error: 0.1451 - val_mean_absolute_error: 0.2393\n",
            "Epoch 37/100\n",
            "303/303 [==============================] - 0s 71us/step - loss: 0.0518 - mean_squared_error: 0.0518 - mean_absolute_error: 0.1664 - val_loss: 0.1449 - val_mean_squared_error: 0.1449 - val_mean_absolute_error: 0.2406\n",
            "Epoch 38/100\n",
            "303/303 [==============================] - 0s 68us/step - loss: 0.0516 - mean_squared_error: 0.0516 - mean_absolute_error: 0.1646 - val_loss: 0.1451 - val_mean_squared_error: 0.1451 - val_mean_absolute_error: 0.2395\n",
            "Epoch 39/100\n",
            "303/303 [==============================] - 0s 72us/step - loss: 0.0512 - mean_squared_error: 0.0512 - mean_absolute_error: 0.1634 - val_loss: 0.1432 - val_mean_squared_error: 0.1432 - val_mean_absolute_error: 0.2384\n",
            "Epoch 40/100\n",
            "303/303 [==============================] - 0s 67us/step - loss: 0.0512 - mean_squared_error: 0.0512 - mean_absolute_error: 0.1639 - val_loss: 0.1440 - val_mean_squared_error: 0.1440 - val_mean_absolute_error: 0.2376\n",
            "Epoch 41/100\n",
            "303/303 [==============================] - 0s 61us/step - loss: 0.0506 - mean_squared_error: 0.0506 - mean_absolute_error: 0.1639 - val_loss: 0.1448 - val_mean_squared_error: 0.1448 - val_mean_absolute_error: 0.2425\n",
            "Epoch 42/100\n",
            "303/303 [==============================] - 0s 63us/step - loss: 0.0502 - mean_squared_error: 0.0502 - mean_absolute_error: 0.1637 - val_loss: 0.1427 - val_mean_squared_error: 0.1427 - val_mean_absolute_error: 0.2396\n",
            "Epoch 43/100\n",
            "303/303 [==============================] - 0s 75us/step - loss: 0.0505 - mean_squared_error: 0.0505 - mean_absolute_error: 0.1630 - val_loss: 0.1426 - val_mean_squared_error: 0.1426 - val_mean_absolute_error: 0.2387\n",
            "Epoch 44/100\n",
            "303/303 [==============================] - 0s 66us/step - loss: 0.0487 - mean_squared_error: 0.0487 - mean_absolute_error: 0.1600 - val_loss: 0.1423 - val_mean_squared_error: 0.1423 - val_mean_absolute_error: 0.2386\n",
            "Epoch 45/100\n",
            "303/303 [==============================] - 0s 64us/step - loss: 0.0499 - mean_squared_error: 0.0499 - mean_absolute_error: 0.1634 - val_loss: 0.1436 - val_mean_squared_error: 0.1436 - val_mean_absolute_error: 0.2393\n",
            "Epoch 46/100\n",
            "303/303 [==============================] - 0s 83us/step - loss: 0.0486 - mean_squared_error: 0.0486 - mean_absolute_error: 0.1596 - val_loss: 0.1426 - val_mean_squared_error: 0.1426 - val_mean_absolute_error: 0.2358\n",
            "Epoch 47/100\n",
            "303/303 [==============================] - 0s 73us/step - loss: 0.0481 - mean_squared_error: 0.0481 - mean_absolute_error: 0.1600 - val_loss: 0.1427 - val_mean_squared_error: 0.1427 - val_mean_absolute_error: 0.2410\n",
            "Epoch 48/100\n",
            "303/303 [==============================] - 0s 62us/step - loss: 0.0477 - mean_squared_error: 0.0477 - mean_absolute_error: 0.1609 - val_loss: 0.1427 - val_mean_squared_error: 0.1427 - val_mean_absolute_error: 0.2403\n",
            "Epoch 49/100\n",
            "303/303 [==============================] - 0s 75us/step - loss: 0.0474 - mean_squared_error: 0.0474 - mean_absolute_error: 0.1586 - val_loss: 0.1401 - val_mean_squared_error: 0.1401 - val_mean_absolute_error: 0.2354\n",
            "Epoch 50/100\n",
            "303/303 [==============================] - 0s 74us/step - loss: 0.0478 - mean_squared_error: 0.0478 - mean_absolute_error: 0.1586 - val_loss: 0.1407 - val_mean_squared_error: 0.1407 - val_mean_absolute_error: 0.2360\n",
            "Epoch 51/100\n",
            "303/303 [==============================] - 0s 77us/step - loss: 0.0475 - mean_squared_error: 0.0475 - mean_absolute_error: 0.1607 - val_loss: 0.1432 - val_mean_squared_error: 0.1432 - val_mean_absolute_error: 0.2415\n",
            "Epoch 52/100\n",
            "303/303 [==============================] - 0s 64us/step - loss: 0.0465 - mean_squared_error: 0.0465 - mean_absolute_error: 0.1588 - val_loss: 0.1400 - val_mean_squared_error: 0.1400 - val_mean_absolute_error: 0.2373\n",
            "Epoch 53/100\n",
            "303/303 [==============================] - 0s 63us/step - loss: 0.0463 - mean_squared_error: 0.0463 - mean_absolute_error: 0.1591 - val_loss: 0.1417 - val_mean_squared_error: 0.1417 - val_mean_absolute_error: 0.2391\n",
            "Epoch 54/100\n",
            "303/303 [==============================] - 0s 65us/step - loss: 0.0477 - mean_squared_error: 0.0477 - mean_absolute_error: 0.1589 - val_loss: 0.1407 - val_mean_squared_error: 0.1407 - val_mean_absolute_error: 0.2385\n",
            "Epoch 55/100\n",
            "303/303 [==============================] - 0s 86us/step - loss: 0.0460 - mean_squared_error: 0.0460 - mean_absolute_error: 0.1580 - val_loss: 0.1405 - val_mean_squared_error: 0.1405 - val_mean_absolute_error: 0.2395\n",
            "Epoch 56/100\n",
            "303/303 [==============================] - 0s 77us/step - loss: 0.0454 - mean_squared_error: 0.0454 - mean_absolute_error: 0.1582 - val_loss: 0.1409 - val_mean_squared_error: 0.1409 - val_mean_absolute_error: 0.2404\n",
            "Epoch 57/100\n",
            "303/303 [==============================] - 0s 66us/step - loss: 0.0454 - mean_squared_error: 0.0454 - mean_absolute_error: 0.1559 - val_loss: 0.1393 - val_mean_squared_error: 0.1393 - val_mean_absolute_error: 0.2345\n",
            "Epoch 58/100\n",
            "303/303 [==============================] - 0s 78us/step - loss: 0.0446 - mean_squared_error: 0.0446 - mean_absolute_error: 0.1569 - val_loss: 0.1394 - val_mean_squared_error: 0.1394 - val_mean_absolute_error: 0.2387\n",
            "Epoch 59/100\n",
            "303/303 [==============================] - 0s 65us/step - loss: 0.0446 - mean_squared_error: 0.0446 - mean_absolute_error: 0.1554 - val_loss: 0.1392 - val_mean_squared_error: 0.1392 - val_mean_absolute_error: 0.2366\n",
            "Epoch 60/100\n",
            "303/303 [==============================] - 0s 56us/step - loss: 0.0441 - mean_squared_error: 0.0441 - mean_absolute_error: 0.1543 - val_loss: 0.1394 - val_mean_squared_error: 0.1394 - val_mean_absolute_error: 0.2363\n",
            "Epoch 61/100\n",
            "303/303 [==============================] - 0s 57us/step - loss: 0.0433 - mean_squared_error: 0.0433 - mean_absolute_error: 0.1522 - val_loss: 0.1395 - val_mean_squared_error: 0.1395 - val_mean_absolute_error: 0.2394\n",
            "Epoch 62/100\n",
            "303/303 [==============================] - 0s 68us/step - loss: 0.0438 - mean_squared_error: 0.0438 - mean_absolute_error: 0.1549 - val_loss: 0.1395 - val_mean_squared_error: 0.1395 - val_mean_absolute_error: 0.2391\n",
            "Epoch 63/100\n",
            "303/303 [==============================] - 0s 56us/step - loss: 0.0444 - mean_squared_error: 0.0444 - mean_absolute_error: 0.1553 - val_loss: 0.1383 - val_mean_squared_error: 0.1383 - val_mean_absolute_error: 0.2375\n",
            "Epoch 64/100\n",
            "303/303 [==============================] - 0s 64us/step - loss: 0.0430 - mean_squared_error: 0.0430 - mean_absolute_error: 0.1534 - val_loss: 0.1385 - val_mean_squared_error: 0.1385 - val_mean_absolute_error: 0.2346\n",
            "Epoch 65/100\n",
            "303/303 [==============================] - 0s 67us/step - loss: 0.0421 - mean_squared_error: 0.0421 - mean_absolute_error: 0.1510 - val_loss: 0.1387 - val_mean_squared_error: 0.1387 - val_mean_absolute_error: 0.2385\n",
            "Epoch 66/100\n",
            "303/303 [==============================] - 0s 68us/step - loss: 0.0426 - mean_squared_error: 0.0426 - mean_absolute_error: 0.1531 - val_loss: 0.1364 - val_mean_squared_error: 0.1364 - val_mean_absolute_error: 0.2356\n",
            "Epoch 67/100\n",
            "303/303 [==============================] - 0s 63us/step - loss: 0.0423 - mean_squared_error: 0.0423 - mean_absolute_error: 0.1507 - val_loss: 0.1385 - val_mean_squared_error: 0.1385 - val_mean_absolute_error: 0.2371\n",
            "Epoch 68/100\n",
            "303/303 [==============================] - 0s 67us/step - loss: 0.0418 - mean_squared_error: 0.0418 - mean_absolute_error: 0.1511 - val_loss: 0.1376 - val_mean_squared_error: 0.1376 - val_mean_absolute_error: 0.2352\n",
            "Epoch 69/100\n",
            "303/303 [==============================] - 0s 67us/step - loss: 0.0419 - mean_squared_error: 0.0419 - mean_absolute_error: 0.1498 - val_loss: 0.1376 - val_mean_squared_error: 0.1376 - val_mean_absolute_error: 0.2379\n",
            "Epoch 70/100\n",
            "303/303 [==============================] - 0s 65us/step - loss: 0.0413 - mean_squared_error: 0.0413 - mean_absolute_error: 0.1511 - val_loss: 0.1383 - val_mean_squared_error: 0.1383 - val_mean_absolute_error: 0.2373\n",
            "Epoch 71/100\n",
            "303/303 [==============================] - 0s 63us/step - loss: 0.0405 - mean_squared_error: 0.0405 - mean_absolute_error: 0.1483 - val_loss: 0.1370 - val_mean_squared_error: 0.1370 - val_mean_absolute_error: 0.2339\n",
            "Epoch 72/100\n",
            "303/303 [==============================] - 0s 77us/step - loss: 0.0408 - mean_squared_error: 0.0408 - mean_absolute_error: 0.1495 - val_loss: 0.1368 - val_mean_squared_error: 0.1368 - val_mean_absolute_error: 0.2350\n",
            "Epoch 73/100\n",
            "303/303 [==============================] - 0s 79us/step - loss: 0.0402 - mean_squared_error: 0.0402 - mean_absolute_error: 0.1477 - val_loss: 0.1387 - val_mean_squared_error: 0.1387 - val_mean_absolute_error: 0.2397\n",
            "Epoch 74/100\n",
            "303/303 [==============================] - 0s 63us/step - loss: 0.0409 - mean_squared_error: 0.0409 - mean_absolute_error: 0.1487 - val_loss: 0.1384 - val_mean_squared_error: 0.1384 - val_mean_absolute_error: 0.2377\n",
            "Epoch 75/100\n",
            "303/303 [==============================] - 0s 76us/step - loss: 0.0399 - mean_squared_error: 0.0399 - mean_absolute_error: 0.1484 - val_loss: 0.1384 - val_mean_squared_error: 0.1384 - val_mean_absolute_error: 0.2389\n",
            "Epoch 76/100\n",
            "303/303 [==============================] - 0s 62us/step - loss: 0.0395 - mean_squared_error: 0.0395 - mean_absolute_error: 0.1471 - val_loss: 0.1370 - val_mean_squared_error: 0.1370 - val_mean_absolute_error: 0.2377\n",
            "Epoch 77/100\n",
            "303/303 [==============================] - 0s 56us/step - loss: 0.0390 - mean_squared_error: 0.0390 - mean_absolute_error: 0.1468 - val_loss: 0.1376 - val_mean_squared_error: 0.1376 - val_mean_absolute_error: 0.2358\n",
            "Epoch 78/100\n",
            "303/303 [==============================] - 0s 72us/step - loss: 0.0389 - mean_squared_error: 0.0389 - mean_absolute_error: 0.1461 - val_loss: 0.1389 - val_mean_squared_error: 0.1389 - val_mean_absolute_error: 0.2368\n",
            "Epoch 79/100\n",
            "303/303 [==============================] - 0s 73us/step - loss: 0.0391 - mean_squared_error: 0.0391 - mean_absolute_error: 0.1463 - val_loss: 0.1392 - val_mean_squared_error: 0.1392 - val_mean_absolute_error: 0.2377\n",
            "Epoch 80/100\n",
            "303/303 [==============================] - 0s 59us/step - loss: 0.0391 - mean_squared_error: 0.0391 - mean_absolute_error: 0.1440 - val_loss: 0.1377 - val_mean_squared_error: 0.1377 - val_mean_absolute_error: 0.2368\n",
            "Epoch 81/100\n",
            "303/303 [==============================] - 0s 73us/step - loss: 0.0379 - mean_squared_error: 0.0379 - mean_absolute_error: 0.1439 - val_loss: 0.1400 - val_mean_squared_error: 0.1400 - val_mean_absolute_error: 0.2407\n",
            "Epoch 82/100\n",
            "303/303 [==============================] - 0s 64us/step - loss: 0.0384 - mean_squared_error: 0.0384 - mean_absolute_error: 0.1441 - val_loss: 0.1390 - val_mean_squared_error: 0.1390 - val_mean_absolute_error: 0.2395\n",
            "Epoch 83/100\n",
            "303/303 [==============================] - 0s 75us/step - loss: 0.0372 - mean_squared_error: 0.0372 - mean_absolute_error: 0.1428 - val_loss: 0.1373 - val_mean_squared_error: 0.1373 - val_mean_absolute_error: 0.2366\n",
            "Epoch 84/100\n",
            "303/303 [==============================] - 0s 58us/step - loss: 0.0382 - mean_squared_error: 0.0382 - mean_absolute_error: 0.1445 - val_loss: 0.1376 - val_mean_squared_error: 0.1376 - val_mean_absolute_error: 0.2406\n",
            "Epoch 85/100\n",
            "303/303 [==============================] - 0s 68us/step - loss: 0.0376 - mean_squared_error: 0.0376 - mean_absolute_error: 0.1414 - val_loss: 0.1384 - val_mean_squared_error: 0.1384 - val_mean_absolute_error: 0.2377\n",
            "Epoch 86/100\n",
            "303/303 [==============================] - 0s 79us/step - loss: 0.0369 - mean_squared_error: 0.0369 - mean_absolute_error: 0.1418 - val_loss: 0.1388 - val_mean_squared_error: 0.1388 - val_mean_absolute_error: 0.2427\n",
            "Epoch 87/100\n",
            "303/303 [==============================] - 0s 70us/step - loss: 0.0368 - mean_squared_error: 0.0368 - mean_absolute_error: 0.1430 - val_loss: 0.1377 - val_mean_squared_error: 0.1377 - val_mean_absolute_error: 0.2416\n",
            "Epoch 88/100\n",
            "303/303 [==============================] - 0s 61us/step - loss: 0.0369 - mean_squared_error: 0.0369 - mean_absolute_error: 0.1418 - val_loss: 0.1365 - val_mean_squared_error: 0.1365 - val_mean_absolute_error: 0.2371\n",
            "Epoch 89/100\n",
            "303/303 [==============================] - 0s 56us/step - loss: 0.0369 - mean_squared_error: 0.0369 - mean_absolute_error: 0.1425 - val_loss: 0.1390 - val_mean_squared_error: 0.1390 - val_mean_absolute_error: 0.2419\n",
            "Epoch 90/100\n",
            "303/303 [==============================] - 0s 60us/step - loss: 0.0365 - mean_squared_error: 0.0365 - mean_absolute_error: 0.1416 - val_loss: 0.1365 - val_mean_squared_error: 0.1365 - val_mean_absolute_error: 0.2394\n",
            "Epoch 91/100\n",
            "303/303 [==============================] - 0s 65us/step - loss: 0.0361 - mean_squared_error: 0.0361 - mean_absolute_error: 0.1397 - val_loss: 0.1375 - val_mean_squared_error: 0.1375 - val_mean_absolute_error: 0.2386\n",
            "Epoch 92/100\n",
            "303/303 [==============================] - 0s 86us/step - loss: 0.0376 - mean_squared_error: 0.0376 - mean_absolute_error: 0.1443 - val_loss: 0.1375 - val_mean_squared_error: 0.1375 - val_mean_absolute_error: 0.2426\n",
            "Epoch 93/100\n",
            "303/303 [==============================] - 0s 60us/step - loss: 0.0381 - mean_squared_error: 0.0381 - mean_absolute_error: 0.1441 - val_loss: 0.1365 - val_mean_squared_error: 0.1365 - val_mean_absolute_error: 0.2373\n",
            "Epoch 94/100\n",
            "303/303 [==============================] - 0s 69us/step - loss: 0.0364 - mean_squared_error: 0.0364 - mean_absolute_error: 0.1424 - val_loss: 0.1385 - val_mean_squared_error: 0.1385 - val_mean_absolute_error: 0.2469\n",
            "Epoch 95/100\n",
            "303/303 [==============================] - 0s 74us/step - loss: 0.0344 - mean_squared_error: 0.0344 - mean_absolute_error: 0.1392 - val_loss: 0.1360 - val_mean_squared_error: 0.1360 - val_mean_absolute_error: 0.2359\n",
            "Epoch 96/100\n",
            "303/303 [==============================] - 0s 77us/step - loss: 0.0359 - mean_squared_error: 0.0359 - mean_absolute_error: 0.1401 - val_loss: 0.1388 - val_mean_squared_error: 0.1388 - val_mean_absolute_error: 0.2455\n",
            "Epoch 97/100\n",
            "303/303 [==============================] - 0s 78us/step - loss: 0.0362 - mean_squared_error: 0.0362 - mean_absolute_error: 0.1434 - val_loss: 0.1365 - val_mean_squared_error: 0.1365 - val_mean_absolute_error: 0.2419\n",
            "Epoch 98/100\n",
            "303/303 [==============================] - 0s 79us/step - loss: 0.0343 - mean_squared_error: 0.0343 - mean_absolute_error: 0.1380 - val_loss: 0.1353 - val_mean_squared_error: 0.1353 - val_mean_absolute_error: 0.2379\n",
            "Epoch 99/100\n",
            "303/303 [==============================] - 0s 66us/step - loss: 0.0344 - mean_squared_error: 0.0344 - mean_absolute_error: 0.1377 - val_loss: 0.1360 - val_mean_squared_error: 0.1360 - val_mean_absolute_error: 0.2407\n",
            "Epoch 100/100\n",
            "303/303 [==============================] - 0s 61us/step - loss: 0.0337 - mean_squared_error: 0.0337 - mean_absolute_error: 0.1350 - val_loss: 0.1383 - val_mean_squared_error: 0.1383 - val_mean_absolute_error: 0.2431\n"
          ],
          "name": "stdout"
        },
        {
          "output_type": "execute_result",
          "data": {
            "text/plain": [
              "<keras.callbacks.History at 0x7f85e23b21d0>"
            ]
          },
          "metadata": {
            "tags": []
          },
          "execution_count": 40
        }
      ]
    },
    {
      "cell_type": "markdown",
      "metadata": {
        "id": "nIJa2TVYwj8I",
        "colab_type": "text"
      },
      "source": [
        "Evaluating the model"
      ]
    },
    {
      "cell_type": "code",
      "metadata": {
        "id": "19Brs6eowmsi",
        "colab_type": "code",
        "colab": {
          "base_uri": "https://localhost:8080/",
          "height": 50
        },
        "outputId": "e9c2bcf6-4dee-48a0-f596-04cd1140aca2"
      },
      "source": [
        "#YOUR CODE HERE - Evaluate the model on testing data. The model will return loss value and metrics.\n",
        "loss, mse, mae = model.evaluate(x = X_test, y = y_test)\n",
        "#YOUR CODE HERE - Compute and print the RMSE (aka square root of MSE)\n",
        "print(np.sqrt(mse))"
      ],
      "execution_count": 41,
      "outputs": [
        {
          "output_type": "stream",
          "text": [
            "127/127 [==============================] - 0s 49us/step\n",
            "0.3295400501461\n"
          ],
          "name": "stdout"
        }
      ]
    }
  ]
}